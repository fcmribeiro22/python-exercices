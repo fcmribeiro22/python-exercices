{
 "cells": [
  {
   "cell_type": "code",
   "execution_count": 1,
   "id": "74d66996",
   "metadata": {},
   "outputs": [],
   "source": [
    "#import libraries\n",
    "import pandas as pd\n",
    "from bs4 import BeautifulSoup\n",
    "import requests\n",
    "import time\n",
    "import datetime\n"
   ]
  },
  {
   "cell_type": "code",
   "execution_count": 6,
   "id": "729ef33a",
   "metadata": {},
   "outputs": [
    {
     "name": "stdout",
     "output_type": "stream",
     "text": [
      "\n",
      "           Apple Watch SE (2ª Geração) GPS 44mm Alumínio c/ Bracelete Desportiva (Luz das Estrelas)\n",
      "           \n",
      "\n",
      "\n",
      "\n",
      "             386,50 €\n",
      "            \n"
     ]
    }
   ],
   "source": [
    "# Conect to website\n",
    "\n",
    "URL= \"https://www.castroelectronica.pt/product/apple-watch-se-2-geracao-gps-44mm-aluminio-c-bracelete-desportiva-luz-das-estrelas-1\"\n",
    "headers = {\"User-Agent\": \"Mozilla/5.0 (Windows NT 10.0; Win64; x64) AppleWebKit/537.36 (KHTML, like Gecko) Chrome/116.0.0.0 Safari/537.36\"}\n",
    "\n",
    "page= requests.get(URL, headers= headers)\n",
    "\n",
    "soup1= BeautifulSoup(page.content,'html.parser')\n",
    "\n",
    "\n",
    "\n",
    "soup2= BeautifulSoup(soup1.prettify(),'html.parser')\n",
    "\n",
    "\n",
    "title = soup2.find(class_= \"prod-detail-name\").get_text()\n",
    "price= soup2.find(class_=\"product-store-price\").get_text()\n",
    "\n",
    "print(title)\n",
    "print(price)\n"
   ]
  },
  {
   "cell_type": "code",
   "execution_count": 7,
   "id": "08a6451f",
   "metadata": {},
   "outputs": [],
   "source": [
    "#Clean up data\n",
    "\n",
    "price= price.strip()[:6]\n",
    "title= title.strip()"
   ]
  },
  {
   "cell_type": "code",
   "execution_count": 8,
   "id": "191cf6e7",
   "metadata": {},
   "outputs": [
    {
     "name": "stdout",
     "output_type": "stream",
     "text": [
      "2023-08-29\n"
     ]
    }
   ],
   "source": [
    "# Create a timestamp when colected\n",
    "\n",
    "today = datetime.date.today()\n",
    "\n",
    "print(today)"
   ]
  },
  {
   "cell_type": "code",
   "execution_count": 9,
   "id": "3c2bd90b",
   "metadata": {},
   "outputs": [],
   "source": [
    "# Create CSV and write headers and data into the file\n",
    "\n",
    "\n",
    "import csv\n",
    "\n",
    "header= ['Title','Price', 'Date']\n",
    "\n",
    "data=[title,price,today]\n",
    "\n",
    "with open('CastroEletronicaWebScraper.csv','w', newline='', encoding='UTF8') as f:\n",
    "    writer= csv.writer(f)\n",
    "    writer.writerow(header)\n",
    "    writer.writerow(data)\n",
    "\n",
    "\n",
    "\n"
   ]
  },
  {
   "cell_type": "code",
   "execution_count": 10,
   "id": "24969f2b",
   "metadata": {},
   "outputs": [
    {
     "name": "stdout",
     "output_type": "stream",
     "text": [
      "                                               Title   Price        Date\n",
      "0  Apple Watch SE (2ª Geração) GPS 44mm Alumínio ...  386,50  2023-08-29\n"
     ]
    }
   ],
   "source": [
    "df= pd.read_csv(r'C:\\Users\\fcmri\\CastroEletronicaWebScraper.csv')\n",
    "\n",
    "print (df)"
   ]
  },
  {
   "cell_type": "code",
   "execution_count": 11,
   "id": "37539bea",
   "metadata": {},
   "outputs": [],
   "source": [
    "# Appending data to csv\n",
    "\n",
    "with open('CastroEletronicaWebScraper.csv','a+', newline='', encoding='UTF8') as f:\n",
    "    writer= csv.writer(f)\n",
    "    writer.writerow(data)\n"
   ]
  },
  {
   "cell_type": "code",
   "execution_count": 12,
   "id": "f1b67e0d",
   "metadata": {},
   "outputs": [
    {
     "name": "stdout",
     "output_type": "stream",
     "text": [
      "                                               Title   Price        Date\n",
      "0  Apple Watch SE (2ª Geração) GPS 44mm Alumínio ...  386,50  2023-08-29\n",
      "1  Apple Watch SE (2ª Geração) GPS 44mm Alumínio ...  386,50  2023-08-29\n"
     ]
    }
   ],
   "source": [
    "df= pd.read_csv(r'C:\\Users\\fcmri\\CastroEletronicaWebScraper.csv')\n",
    "\n",
    "print (df)"
   ]
  },
  {
   "cell_type": "code",
   "execution_count": 17,
   "id": "3936e031",
   "metadata": {},
   "outputs": [],
   "source": [
    "#Combine all code\n",
    "\n",
    "def check_price():\n",
    "    URL= \"https://www.castroelectronica.pt/product/apple-watch-se-2-geracao-gps-44mm-aluminio-c-bracelete-desportiva-luz-das-estrelas-1\"\n",
    "    headers = {\"User-Agent\": \"Mozilla/5.0 (Windows NT 10.0; Win64; x64) AppleWebKit/537.36 (KHTML, like Gecko) Chrome/116.0.0.0 Safari/537.36\"}\n",
    "\n",
    "    page= requests.get(URL, headers= headers)\n",
    "\n",
    "    soup1= BeautifulSoup(page.content,'html.parser')\n",
    "\n",
    "\n",
    "\n",
    "    soup2= BeautifulSoup(soup1.prettify(),'html.parser')\n",
    "\n",
    "\n",
    "    title = soup2.find(class_= \"prod-detail-name\").get_text()\n",
    "    price= soup2.find(class_=\"product-store-price\").get_text()\n",
    "    \n",
    "    price= price.strip()[:6]\n",
    "    title= title.strip()\n",
    "    today = datetime.date.today()\n",
    "    \n",
    "    import csv\n",
    "\n",
    "    header= ['Title','Price', 'Date']\n",
    "\n",
    "    data=[title,price,today]\n",
    "    \n",
    "    with open('CastroEletronicaWebScraper.csv','a+', newline='', encoding='UTF8') as f:\n",
    "        writer= csv.writer(f)\n",
    "        writer.writerow(data)\n",
    "\n",
    "\n",
    "   "
   ]
  },
  {
   "cell_type": "code",
   "execution_count": 18,
   "id": "035bd766",
   "metadata": {},
   "outputs": [
    {
     "ename": "KeyboardInterrupt",
     "evalue": "",
     "output_type": "error",
     "traceback": [
      "\u001b[1;31m---------------------------------------------------------------------------\u001b[0m",
      "\u001b[1;31mKeyboardInterrupt\u001b[0m                         Traceback (most recent call last)",
      "Cell \u001b[1;32mIn[18], line 2\u001b[0m\n\u001b[0;32m      1\u001b[0m \u001b[38;5;28;01mwhile\u001b[39;00m(\u001b[38;5;28;01mTrue\u001b[39;00m):\n\u001b[1;32m----> 2\u001b[0m     check_price()\n\u001b[0;32m      3\u001b[0m     time\u001b[38;5;241m.\u001b[39msleep(\u001b[38;5;241m2\u001b[39m)\n",
      "Cell \u001b[1;32mIn[17], line 13\u001b[0m, in \u001b[0;36mcheck_price\u001b[1;34m()\u001b[0m\n\u001b[0;32m      7\u001b[0m page\u001b[38;5;241m=\u001b[39m requests\u001b[38;5;241m.\u001b[39mget(URL, headers\u001b[38;5;241m=\u001b[39m headers)\n\u001b[0;32m      9\u001b[0m soup1\u001b[38;5;241m=\u001b[39m BeautifulSoup(page\u001b[38;5;241m.\u001b[39mcontent,\u001b[38;5;124m'\u001b[39m\u001b[38;5;124mhtml.parser\u001b[39m\u001b[38;5;124m'\u001b[39m)\n\u001b[1;32m---> 13\u001b[0m soup2\u001b[38;5;241m=\u001b[39m BeautifulSoup(soup1\u001b[38;5;241m.\u001b[39mprettify(),\u001b[38;5;124m'\u001b[39m\u001b[38;5;124mhtml.parser\u001b[39m\u001b[38;5;124m'\u001b[39m)\n\u001b[0;32m     16\u001b[0m title \u001b[38;5;241m=\u001b[39m soup2\u001b[38;5;241m.\u001b[39mfind(class_\u001b[38;5;241m=\u001b[39m \u001b[38;5;124m\"\u001b[39m\u001b[38;5;124mprod-detail-name\u001b[39m\u001b[38;5;124m\"\u001b[39m)\u001b[38;5;241m.\u001b[39mget_text()\n\u001b[0;32m     17\u001b[0m price\u001b[38;5;241m=\u001b[39m soup2\u001b[38;5;241m.\u001b[39mfind(class_\u001b[38;5;241m=\u001b[39m\u001b[38;5;124m\"\u001b[39m\u001b[38;5;124mproduct-store-price\u001b[39m\u001b[38;5;124m\"\u001b[39m)\u001b[38;5;241m.\u001b[39mget_text()\n",
      "File \u001b[1;32m~\\anaconda3\\Lib\\site-packages\\bs4\\element.py:1921\u001b[0m, in \u001b[0;36mTag.prettify\u001b[1;34m(self, encoding, formatter)\u001b[0m\n\u001b[0;32m   1911\u001b[0m \u001b[38;5;250m\u001b[39m\u001b[38;5;124;03m\"\"\"Pretty-print this PageElement as a string.\u001b[39;00m\n\u001b[0;32m   1912\u001b[0m \n\u001b[0;32m   1913\u001b[0m \u001b[38;5;124;03m:param encoding: The eventual encoding of the string. If this is None,\u001b[39;00m\n\u001b[1;32m   (...)\u001b[0m\n\u001b[0;32m   1918\u001b[0m \u001b[38;5;124;03m    (otherwise).\u001b[39;00m\n\u001b[0;32m   1919\u001b[0m \u001b[38;5;124;03m\"\"\"\u001b[39;00m\n\u001b[0;32m   1920\u001b[0m \u001b[38;5;28;01mif\u001b[39;00m encoding \u001b[38;5;129;01mis\u001b[39;00m \u001b[38;5;28;01mNone\u001b[39;00m:\n\u001b[1;32m-> 1921\u001b[0m     \u001b[38;5;28;01mreturn\u001b[39;00m \u001b[38;5;28mself\u001b[39m\u001b[38;5;241m.\u001b[39mdecode(\u001b[38;5;28;01mTrue\u001b[39;00m, formatter\u001b[38;5;241m=\u001b[39mformatter)\n\u001b[0;32m   1922\u001b[0m \u001b[38;5;28;01melse\u001b[39;00m:\n\u001b[0;32m   1923\u001b[0m     \u001b[38;5;28;01mreturn\u001b[39;00m \u001b[38;5;28mself\u001b[39m\u001b[38;5;241m.\u001b[39mencode(encoding, \u001b[38;5;28;01mTrue\u001b[39;00m, formatter\u001b[38;5;241m=\u001b[39mformatter)\n",
      "File \u001b[1;32m~\\anaconda3\\Lib\\site-packages\\bs4\\__init__.py:805\u001b[0m, in \u001b[0;36mBeautifulSoup.decode\u001b[1;34m(self, pretty_print, eventual_encoding, formatter, iterator)\u001b[0m\n\u001b[0;32m    803\u001b[0m \u001b[38;5;28;01melse\u001b[39;00m:\n\u001b[0;32m    804\u001b[0m     indent_level \u001b[38;5;241m=\u001b[39m \u001b[38;5;241m0\u001b[39m\n\u001b[1;32m--> 805\u001b[0m \u001b[38;5;28;01mreturn\u001b[39;00m prefix \u001b[38;5;241m+\u001b[39m \u001b[38;5;28msuper\u001b[39m(BeautifulSoup, \u001b[38;5;28mself\u001b[39m)\u001b[38;5;241m.\u001b[39mdecode(\n\u001b[0;32m    806\u001b[0m     indent_level, eventual_encoding, formatter, iterator)\n",
      "File \u001b[1;32m~\\anaconda3\\Lib\\site-packages\\bs4\\element.py:1711\u001b[0m, in \u001b[0;36mTag.decode\u001b[1;34m(self, indent_level, eventual_encoding, formatter, iterator)\u001b[0m\n\u001b[0;32m   1703\u001b[0m \u001b[38;5;66;03m# The currently active tag that put us into string literal\u001b[39;00m\n\u001b[0;32m   1704\u001b[0m \u001b[38;5;66;03m# mode. Until this element is closed, children will be treated\u001b[39;00m\n\u001b[0;32m   1705\u001b[0m \u001b[38;5;66;03m# as string literals and not pretty-printed. String literal\u001b[39;00m\n\u001b[0;32m   1706\u001b[0m \u001b[38;5;66;03m# mode is turned on immediately after this tag begins, and\u001b[39;00m\n\u001b[0;32m   1707\u001b[0m \u001b[38;5;66;03m# turned off immediately before it's closed. This means there\u001b[39;00m\n\u001b[0;32m   1708\u001b[0m \u001b[38;5;66;03m# will be whitespace before and after the tag itself.\u001b[39;00m\n\u001b[0;32m   1709\u001b[0m string_literal_tag \u001b[38;5;241m=\u001b[39m \u001b[38;5;28;01mNone\u001b[39;00m\n\u001b[1;32m-> 1711\u001b[0m \u001b[38;5;28;01mfor\u001b[39;00m event, element \u001b[38;5;129;01min\u001b[39;00m \u001b[38;5;28mself\u001b[39m\u001b[38;5;241m.\u001b[39m_event_stream(iterator):\n\u001b[0;32m   1712\u001b[0m     \u001b[38;5;28;01mif\u001b[39;00m event \u001b[38;5;129;01min\u001b[39;00m (Tag\u001b[38;5;241m.\u001b[39mSTART_ELEMENT_EVENT, Tag\u001b[38;5;241m.\u001b[39mEMPTY_ELEMENT_EVENT):\n\u001b[0;32m   1713\u001b[0m         piece \u001b[38;5;241m=\u001b[39m element\u001b[38;5;241m.\u001b[39m_format_tag(\n\u001b[0;32m   1714\u001b[0m             eventual_encoding, formatter, opening\u001b[38;5;241m=\u001b[39m\u001b[38;5;28;01mTrue\u001b[39;00m\n\u001b[0;32m   1715\u001b[0m         )\n",
      "File \u001b[1;32m~\\anaconda3\\Lib\\site-packages\\bs4\\element.py:1809\u001b[0m, in \u001b[0;36mTag._event_stream\u001b[1;34m(self, iterator)\u001b[0m\n\u001b[0;32m   1807\u001b[0m \u001b[38;5;28;01mwhile\u001b[39;00m tag_stack \u001b[38;5;129;01mand\u001b[39;00m c\u001b[38;5;241m.\u001b[39mparent \u001b[38;5;241m!=\u001b[39m tag_stack[\u001b[38;5;241m-\u001b[39m\u001b[38;5;241m1\u001b[39m]:\n\u001b[0;32m   1808\u001b[0m     now_closed_tag \u001b[38;5;241m=\u001b[39m tag_stack\u001b[38;5;241m.\u001b[39mpop()\n\u001b[1;32m-> 1809\u001b[0m     \u001b[38;5;28;01myield\u001b[39;00m Tag\u001b[38;5;241m.\u001b[39mEND_ELEMENT_EVENT, now_closed_tag\n\u001b[0;32m   1811\u001b[0m \u001b[38;5;28;01mif\u001b[39;00m \u001b[38;5;28misinstance\u001b[39m(c, Tag):\n\u001b[0;32m   1812\u001b[0m     \u001b[38;5;28;01mif\u001b[39;00m c\u001b[38;5;241m.\u001b[39mis_empty_element:\n",
      "\u001b[1;31mKeyboardInterrupt\u001b[0m: "
     ]
    }
   ],
   "source": [
    "while(True):\n",
    "    check_price()\n",
    "    time.sleep(86400)"
   ]
  },
  {
   "cell_type": "code",
   "execution_count": 19,
   "id": "d9ab8381",
   "metadata": {},
   "outputs": [
    {
     "name": "stdout",
     "output_type": "stream",
     "text": [
      "                                               Title   Price        Date\n",
      "0  Apple Watch SE (2ª Geração) GPS 44mm Alumínio ...  386,50  2023-08-29\n",
      "1  Apple Watch SE (2ª Geração) GPS 44mm Alumínio ...  386,50  2023-08-29\n",
      "2  Apple Watch SE (2ª Geração) GPS 44mm Alumínio ...  386,50  2023-08-29\n",
      "3  Apple Watch SE (2ª Geração) GPS 44mm Alumínio ...  386,50  2023-08-29\n"
     ]
    }
   ],
   "source": [
    "df= pd.read_csv(r'C:\\Users\\fcmri\\CastroEletronicaWebScraper.csv')\n",
    "\n",
    "print (df)"
   ]
  },
  {
   "cell_type": "code",
   "execution_count": null,
   "id": "a4cb7bf5",
   "metadata": {},
   "outputs": [],
   "source": []
  },
  {
   "cell_type": "code",
   "execution_count": null,
   "id": "5bfc6646",
   "metadata": {},
   "outputs": [],
   "source": []
  },
  {
   "cell_type": "code",
   "execution_count": null,
   "id": "cc78ee38",
   "metadata": {},
   "outputs": [],
   "source": []
  },
  {
   "cell_type": "code",
   "execution_count": null,
   "id": "ba443098",
   "metadata": {},
   "outputs": [],
   "source": []
  },
  {
   "cell_type": "code",
   "execution_count": null,
   "id": "c7970b8c",
   "metadata": {},
   "outputs": [],
   "source": []
  }
 ],
 "metadata": {
  "kernelspec": {
   "display_name": "Python 3 (ipykernel)",
   "language": "python",
   "name": "python3"
  },
  "language_info": {
   "codemirror_mode": {
    "name": "ipython",
    "version": 3
   },
   "file_extension": ".py",
   "mimetype": "text/x-python",
   "name": "python",
   "nbconvert_exporter": "python",
   "pygments_lexer": "ipython3",
   "version": "3.11.4"
  }
 },
 "nbformat": 4,
 "nbformat_minor": 5
}
