{
 "cells": [
  {
   "cell_type": "markdown",
   "id": "678b82d0",
   "metadata": {},
   "source": [
    "## File Sorter"
   ]
  },
  {
   "cell_type": "code",
   "execution_count": 1,
   "id": "72efcd7f",
   "metadata": {},
   "outputs": [],
   "source": [
    "import os, shutil"
   ]
  },
  {
   "cell_type": "code",
   "execution_count": 6,
   "id": "97602e06",
   "metadata": {},
   "outputs": [],
   "source": [
    "path= r\"C:/Users/fcmri/OneDrive/Documents/MaterialQA/\""
   ]
  },
  {
   "cell_type": "code",
   "execution_count": 8,
   "id": "94ec93b7",
   "metadata": {},
   "outputs": [],
   "source": [
    "file_name = os.listdir(path)"
   ]
  },
  {
   "cell_type": "code",
   "execution_count": 18,
   "id": "277bfb44",
   "metadata": {},
   "outputs": [],
   "source": [
    "folder_names = ['csv_files', 'image_files', 'pdf_files']\n",
    "\n",
    "for folder_name in folder_names:\n",
    "    folder_path = os.path.join(path, folder_name)\n",
    "    if not os.path.exists(folder_path):\n",
    "        os.makedirs(folder_path)\n",
    "        \n",
    "for file in file_name:\n",
    "    if \".xlsx\" in file and not os.path.exists(path + \"csv_files/\" + file):\n",
    "        shutil.move(path + file,path + \"csv_files/\" + file )\n",
    "    elif \".pdf\" in file and not os.path.exists(path + \"pdf_files/\" + file):\n",
    "        shutil.move(path + file,path + \"pdf_files/\" + file )\n",
    "    elif \".jpg\" in file and not os.path.exists(path + \"image_files/\" + file):\n",
    "        shutil.move(path + file,path + \"image_files/\" + file )"
   ]
  },
  {
   "cell_type": "code",
   "execution_count": 16,
   "id": "0ae2b97c",
   "metadata": {},
   "outputs": [],
   "source": []
  },
  {
   "cell_type": "code",
   "execution_count": null,
   "id": "41d71937",
   "metadata": {},
   "outputs": [],
   "source": []
  },
  {
   "cell_type": "code",
   "execution_count": null,
   "id": "4bddf859",
   "metadata": {},
   "outputs": [],
   "source": []
  },
  {
   "cell_type": "code",
   "execution_count": null,
   "id": "ca3c6a1c",
   "metadata": {},
   "outputs": [],
   "source": []
  }
 ],
 "metadata": {
  "kernelspec": {
   "display_name": "Python 3 (ipykernel)",
   "language": "python",
   "name": "python3"
  },
  "language_info": {
   "codemirror_mode": {
    "name": "ipython",
    "version": 3
   },
   "file_extension": ".py",
   "mimetype": "text/x-python",
   "name": "python",
   "nbconvert_exporter": "python",
   "pygments_lexer": "ipython3",
   "version": "3.11.4"
  }
 },
 "nbformat": 4,
 "nbformat_minor": 5
}
